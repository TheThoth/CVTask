{
 "cells": [
  {
   "cell_type": "code",
   "execution_count": 0,
   "metadata": {
    "colab": {},
    "colab_type": "code",
    "id": "sWB-GSl2RFLf"
   },
   "outputs": [],
   "source": [
    "import tensorflow as tf\n",
    "import numpy as np\n",
    "import os\n",
    "import matplotlib.pyplot as plt\n",
    "import matplotlib.image as mpimg\n",
    "%matplotlib inline\n",
    "import cv2"
   ]
  },
  {
   "cell_type": "code",
   "execution_count": 0,
   "metadata": {
    "colab": {},
    "colab_type": "code",
    "id": "0UypkIhHSLc-"
   },
   "outputs": [],
   "source": [
    "path = 'mnist'"
   ]
  },
  {
   "cell_type": "code",
   "execution_count": 124,
   "metadata": {
    "colab": {
     "base_uri": "https://localhost:8080/",
     "height": 34
    },
    "colab_type": "code",
    "id": "8hxCoTyhQhBe",
    "outputId": "106ceb84-4431-4b3f-f8c3-242407617fcc"
   },
   "outputs": [
    {
     "name": "stdout",
     "output_type": "stream",
     "text": [
      "['t10k-images-idx3-ubyte.gz', 't10k-labels-idx1-ubyte.gz', 'train-images-idx3-ubyte.gz', 'train-labels-idx1-ubyte.gz']\n"
     ]
    }
   ],
   "source": [
    "p = os.listdir(path)\n",
    "p.sort(key=str.lower)\n",
    "p.sort(key=str.lower)\n",
    "train_arr = []\n",
    "test_arr = []\n",
    "print(p)\n"
   ]
  },
  {
   "cell_type": "code",
   "execution_count": 0,
   "metadata": {
    "colab": {},
    "colab_type": "code",
    "id": "oqML52DwgyVR"
   },
   "outputs": [],
   "source": [
    "import gzip\n",
    "file_train = gzip.open(path + '/' + p[2],'r')\n",
    "\n",
    "image_size = 28\n",
    "num_images = 60000\n",
    "\n",
    "import numpy as np\n",
    "file_train.read(16)\n",
    "buf = file_train.read(image_size * image_size * num_images)\n",
    "data = np.frombuffer(buf, dtype=np.uint8).astype(np.float32)\n",
    "data = data.reshape(num_images, image_size, image_size)"
   ]
  },
  {
   "cell_type": "code",
   "execution_count": 0,
   "metadata": {
    "colab": {},
    "colab_type": "code",
    "id": "5cH5GY38jYy3"
   },
   "outputs": [],
   "source": [
    "labels = np.empty(60000)\n",
    "file_train = gzip.open(path + '/' + p[3],'r')\n",
    "file_train.read(8)\n",
    "for i in range(0,60000):   \n",
    "    buf = file_train.read(1)\n",
    "    r = np.frombuffer(buf, dtype=np.uint8).astype(np.int64)\n",
    "    labels[i] = r\n",
    "    #print(labels)"
   ]
  },
  {
   "cell_type": "code",
   "execution_count": 188,
   "metadata": {
    "colab": {
     "base_uri": "https://localhost:8080/",
     "height": 34
    },
    "colab_type": "code",
    "id": "K2bkRiNVnqcj",
    "outputId": "f3fc3700-3694-49d2-c20a-ca6e68f9d1fe"
   },
   "outputs": [
    {
     "data": {
      "text/plain": [
       "(60000,)"
      ]
     },
     "execution_count": 188,
     "metadata": {
      "tags": []
     },
     "output_type": "execute_result"
    }
   ],
   "source": [
    "labels.shape"
   ]
  },
  {
   "cell_type": "code",
   "execution_count": 0,
   "metadata": {
    "colab": {},
    "colab_type": "code",
    "id": "RR53t47KlpjV"
   },
   "outputs": [],
   "source": [
    "file_test = gzip.open(path + '/' + p[0],'r')\n",
    "\n",
    "image_size = 28\n",
    "num_images = 10000\n",
    "\n",
    "import numpy as np\n",
    "file_test.read(16)\n",
    "buf = file_test.read(image_size * image_size * num_images)\n",
    "test = np.frombuffer(buf, dtype=np.uint8).astype(np.float32)\n",
    "test = test.reshape(num_images, image_size, image_size)"
   ]
  },
  {
   "cell_type": "code",
   "execution_count": 0,
   "metadata": {
    "colab": {},
    "colab_type": "code",
    "id": "MXCxGb7GlprE"
   },
   "outputs": [],
   "source": [
    "test_labels = np.empty(10000)\n",
    "file_test = gzip.open(path + '/' + p[1],'r')\n",
    "file_test.read(8)\n",
    "for i in range(0,10000):   \n",
    "    buf = file_test.read(1)\n",
    "    k = np.frombuffer(buf, dtype=np.uint8).astype(np.int64)\n",
    "    test_labels[i] = k\n",
    "    #print(labels)"
   ]
  },
  {
   "cell_type": "code",
   "execution_count": 0,
   "metadata": {
    "colab": {},
    "colab_type": "code",
    "id": "x8yeqOsPkEuW"
   },
   "outputs": [],
   "source": [
    "(x_train, y_train) = (data, labels)\n",
    "(x_test, y_test) = (test, test_labels)"
   ]
  },
  {
   "cell_type": "code",
   "execution_count": 0,
   "metadata": {
    "colab": {},
    "colab_type": "code",
    "id": "W71rQ_7DlkB1"
   },
   "outputs": [],
   "source": [
    "x_train = tf.keras.utils.normalize(x_train, axis = 1)\n",
    "x_test = tf.keras.utils.normalize(x_test, axis = 1)"
   ]
  },
  {
   "cell_type": "code",
   "execution_count": 0,
   "metadata": {
    "colab": {},
    "colab_type": "code",
    "id": "n8EdTHsbnW6p"
   },
   "outputs": [],
   "source": [
    "model = tf.keras.models.Sequential()\n",
    "\n",
    "model.add(tf.keras.layers.Flatten())\n",
    "model.add(tf.keras.layers.Dense(128, activation = tf.nn.relu))\n",
    "model.add(tf.keras.layers.Dense(128, activation = tf.nn.relu))\n",
    "model.add(tf.keras.layers.Dense(10, activation = tf.nn.softmax))\n",
    "\n",
    "\n",
    "\n",
    "model.compile(optimizer = 'adam',                         ##\n",
    "             loss = 'sparse_categorical_crossentropy',    ##\n",
    "             metrics = ['accuracy'])   "
   ]
  },
  {
   "cell_type": "code",
   "execution_count": 210,
   "metadata": {
    "colab": {
     "base_uri": "https://localhost:8080/",
     "height": 187
    },
    "colab_type": "code",
    "id": "BF1IcGz7nZJa",
    "outputId": "175a0bf4-6c8c-46c9-d451-3175fc8b7ba9"
   },
   "outputs": [
    {
     "name": "stdout",
     "output_type": "stream",
     "text": [
      "Epoch 1/5\n",
      "60000/60000 [==============================] - 14s 235us/sample - loss: 0.2589 - acc: 0.9240\n",
      "Epoch 2/5\n",
      "60000/60000 [==============================] - 15s 242us/sample - loss: 0.1069 - acc: 0.9671\n",
      "Epoch 3/5\n",
      "60000/60000 [==============================] - 14s 226us/sample - loss: 0.0737 - acc: 0.9764\n",
      "Epoch 4/5\n",
      "60000/60000 [==============================] - 14s 238us/sample - loss: 0.0541 - acc: 0.9825\n",
      "Epoch 5/5\n",
      "60000/60000 [==============================] - 14s 228us/sample - loss: 0.0415 - acc: 0.9862\n"
     ]
    }
   ],
   "source": [
    "history = model.fit(x_train, y_train, epochs=5)"
   ]
  },
  {
   "cell_type": "code",
   "execution_count": 211,
   "metadata": {
    "colab": {
     "base_uri": "https://localhost:8080/",
     "height": 590
    },
    "colab_type": "code",
    "id": "6vhD8xkor5L9",
    "outputId": "96ac0499-af80-4c19-ea51-4b24acf9fcca"
   },
   "outputs": [
    {
     "name": "stdout",
     "output_type": "stream",
     "text": [
      "dict_keys(['loss', 'acc'])\n"
     ]
    },
    {
     "data": {
      "image/png": "[encoded data removed]",
      "text/plain": [
       "<Figure size 432x288 with 1 Axes>"
      ]
     },
     "metadata": {
      "tags": []
     },
     "output_type": "display_data"
    },
    {
     "data": {
      "image/png": "[encoded data removed]",
      "text/plain": [
       "<Figure size 432x288 with 1 Axes>"
      ]
     },
     "metadata": {
      "tags": []
     },
     "output_type": "display_data"
    }
   ],
   "source": [
    "print(history.history.keys())\n",
    "plt.plot(history.history['acc'])\n",
    "plt.title('model accuracy')\n",
    "plt.ylabel('accuracy')\n",
    "plt.xlabel('epoch')\n",
    "plt.show()\n",
    "plt.plot(history.history['loss'])\n",
    "plt.title('model loss')\n",
    "plt.ylabel('loss')\n",
    "plt.xlabel('epoch')\n",
    "plt.show()"
   ]
  },
  {
   "cell_type": "code",
   "execution_count": 215,
   "metadata": {
    "colab": {
     "base_uri": "https://localhost:8080/",
     "height": 51
    },
    "colab_type": "code",
    "id": "KLdLnLjdnaXB",
    "outputId": "4497599d-f892-41bf-cba5-2938c37a7168"
   },
   "outputs": [
    {
     "name": "stdout",
     "output_type": "stream",
     "text": [
      "10000/10000 [==============================] - 0s 45us/sample - loss: 0.0879 - acc: 0.9758\n",
      "0.08793791019986384 0.9758\n"
     ]
    }
   ],
   "source": [
    "val_loss, val_acc = model.evaluate(x_test, y_test)\n",
    "print(val_loss, val_acc)"
   ]
  },
  {
   "cell_type": "code",
   "execution_count": 216,
   "metadata": {
    "colab": {
     "base_uri": "https://localhost:8080/",
     "height": 54
    },
    "colab_type": "code",
    "id": "0-ZIrrjanaZ7",
    "outputId": "d957d4a2-1cf4-47ec-85f6-cfc7e5c51c9f"
   },
   "outputs": [
    {
     "name": "stdout",
     "output_type": "stream",
     "text": [
      "WARNING:tensorflow:Sequential models without an `input_shape` passed to the first layer cannot reload their optimizer state. As a result, your model isstarting with a freshly initialized optimizer.\n"
     ]
    }
   ],
   "source": [
    "model.save('my_model.model')\n",
    "new_model = tf.keras.models.load_model('my_model.model')"
   ]
  },
  {
   "cell_type": "code",
   "execution_count": 217,
   "metadata": {
    "colab": {
     "base_uri": "https://localhost:8080/",
     "height": 238
    },
    "colab_type": "code",
    "id": "TOAIibO7qcp-",
    "outputId": "d30c8ab1-0f50-4631-cd67-113e8fbca263"
   },
   "outputs": [
    {
     "name": "stdout",
     "output_type": "stream",
     "text": [
      "[[1.0402049e-09 2.4914282e-08 5.4933903e-08 ... 9.9999738e-01\n",
      "  6.8082473e-10 1.8359502e-06]\n",
      " [2.8769516e-13 7.2935173e-08 9.9999988e-01 ... 1.1445447e-13\n",
      "  1.2389463e-09 7.9071855e-15]\n",
      " [2.2680910e-09 9.9999428e-01 2.0582878e-07 ... 4.1185353e-06\n",
      "  4.5936886e-07 1.0321492e-07]\n",
      " ...\n",
      " [1.9690295e-10 3.6468779e-07 3.6281747e-10 ... 3.7929127e-07\n",
      "  3.7752330e-09 1.6192726e-05]\n",
      " [9.8053610e-10 2.6979134e-09 3.8381742e-09 ... 1.8296825e-09\n",
      "  3.4446018e-03 1.0749575e-11]\n",
      " [3.3160419e-09 1.3350737e-11 4.0850667e-10 ... 7.5024737e-14\n",
      "  1.3676951e-09 5.1122578e-12]]\n"
     ]
    }
   ],
   "source": [
    "prediction = new_model.predict(x_test)\n",
    "print(prediction)"
   ]
  },
  {
   "cell_type": "code",
   "execution_count": 219,
   "metadata": {
    "colab": {
     "base_uri": "https://localhost:8080/",
     "height": 286
    },
    "colab_type": "code",
    "id": "NArg_9fqqeeg",
    "outputId": "a9f1c28a-55aa-4206-8ede-b29e3adcf37e"
   },
   "outputs": [
    {
     "name": "stdout",
     "output_type": "stream",
     "text": [
      "7\n"
     ]
    },
    {
     "data": {
      "image/png": "[encoded data removed]",
      "text/plain": [
       "<Figure size 432x288 with 1 Axes>"
      ]
     },
     "metadata": {
      "tags": []
     },
     "output_type": "display_data"
    }
   ],
   "source": [
    "print(np.argmax(prediction[0]))\n",
    "plt.imshow(x_test[0])\n",
    "plt.show()"
   ]
  },
  {
   "cell_type": "code",
   "execution_count": 0,
   "metadata": {
    "colab": {},
    "colab_type": "code",
    "id": "WDQLYimgqegv"
   },
   "outputs": [],
   "source": []
  }
 ],
 "metadata": {
  "colab": {
   "name": "task.ipynb",
   "provenance": [],
   "version": "0.3.2"
  },
  "kernelspec": {
   "display_name": "Python 3",
   "language": "python",
   "name": "python3"
  },
  "language_info": {
   "codemirror_mode": {
    "name": "ipython",
    "version": 3
   },
   "file_extension": ".py",
   "mimetype": "text/x-python",
   "name": "python",
   "nbconvert_exporter": "python",
   "pygments_lexer": "ipython3",
   "version": "3.7.1"
  }
 },
 "nbformat": 4,
 "nbformat_minor": 1
}
